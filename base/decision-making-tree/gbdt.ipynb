{
 "cells": [
  {
   "cell_type": "code",
   "execution_count": 5,
   "metadata": {},
   "outputs": [],
   "source": [
    "import pandas as pd\n",
    "from sklearn.ensemble import GradientBoostingRegressor\n",
    "from sklearn.metrics import mean_squared_error\n",
    "from sklearn.model_selection import train_test_split"
   ]
  },
  {
   "cell_type": "code",
   "execution_count": 6,
   "metadata": {},
   "outputs": [
    {
     "data": {
      "text/plain": [
       "'f:\\\\Code\\\\python\\\\AILearn\\\\base\\\\decision-making-tree'"
      ]
     },
     "execution_count": 6,
     "metadata": {},
     "output_type": "execute_result"
    }
   ],
   "source": [
    "import os\n",
    "\n",
    "dir_name = os.path.abspath('.')\n",
    "dir_name"
   ]
  },
  {
   "cell_type": "code",
   "execution_count": 7,
   "metadata": {},
   "outputs": [],
   "source": [
    "csv_file = os.path.join(dir_name, 'new_data.csv')\n",
    "\n",
    "# 加载CSV数据\n",
    "data = pd.read_csv(os.path.join(dir_name, 'new_data.csv'), encoding='gb2312')\n",
    "\n",
    "# 提取输入特征和标签\n",
    "features = data.drop(['Flow', 'o', 'd', 'province'], axis=1)\n",
    "labels = data['Flow'].values.reshape(-1, 1)\n"
   ]
  },
  {
   "cell_type": "code",
   "execution_count": 8,
   "metadata": {},
   "outputs": [],
   "source": [
    "# 划分训练集和验证集\n",
    "X_train, X_val, y_train, y_val = train_test_split(features, labels, test_size=0.3, random_state=42)"
   ]
  },
  {
   "cell_type": "code",
   "execution_count": 9,
   "metadata": {},
   "outputs": [],
   "source": [
    "from sklearn.preprocessing import StandardScaler\n",
    "\n",
    "X_normalizer = StandardScaler() # N(0,1)\n",
    "X_train = X_normalizer.fit_transform(X_train)\n",
    "X_val = X_normalizer.transform(X_val)\n",
    "\n",
    "y_normalizer = StandardScaler()\n",
    "y_train = y_normalizer.fit_transform(y_train)\n",
    "y_val = y_normalizer.transform(y_val)"
   ]
  },
  {
   "cell_type": "code",
   "execution_count": 10,
   "metadata": {},
   "outputs": [
    {
     "name": "stdout",
     "output_type": "stream",
     "text": [
      "Mean Squared Error: 0.08181313914052497\n"
     ]
    },
    {
     "data": {
      "text/plain": [
       "array([-0.27172761, -0.2723462 ,  1.94625839, ..., -0.28573897,\n",
       "       -0.2699106 , -0.09358712])"
      ]
     },
     "execution_count": 10,
     "metadata": {},
     "output_type": "execute_result"
    }
   ],
   "source": [
    "# 创建GBDT回归模型\n",
    "model = GradientBoostingRegressor()\n",
    "\n",
    "# 训练模型\n",
    "model.fit(X_train, y_train.ravel())\n",
    "\n",
    "# 在验证集上进行预测\n",
    "y_pred = model.predict(X_val)\n",
    "\n",
    "# 计算均方误差（Mean Squared Error）\n",
    "mse = mean_squared_error(y_val.ravel(), y_pred)\n",
    "print(\"Mean Squared Error:\", mse)\n",
    "\n",
    "y_pred"
   ]
  }
 ],
 "metadata": {
  "kernelspec": {
   "display_name": "Python 3.9.6 ('new_env': venv)",
   "language": "python",
   "name": "python3"
  },
  "language_info": {
   "codemirror_mode": {
    "name": "ipython",
    "version": 3
   },
   "file_extension": ".py",
   "mimetype": "text/x-python",
   "name": "python",
   "nbconvert_exporter": "python",
   "pygments_lexer": "ipython3",
   "version": "3.9.6"
  },
  "orig_nbformat": 4,
  "vscode": {
   "interpreter": {
    "hash": "0d58ff1fa528449bec86ac3b87e5b9edec9a0f46f3f9c706338d5512923abfa3"
   }
  }
 },
 "nbformat": 4,
 "nbformat_minor": 2
}
